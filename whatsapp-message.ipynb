{
 "cells": [
  {
   "cell_type": "code",
   "execution_count": 1,
   "id": "044a8fcb-bcd5-407b-95fc-47d4f7db9f54",
   "metadata": {},
   "outputs": [],
   "source": [
    "import pywhatkit\n",
    "from datetime import datetime\n",
    "import pandas as pd"
   ]
  },
  {
   "cell_type": "code",
   "execution_count": 3,
   "id": "16f9649f-6951-40dc-b790-5611f3f73cd9",
   "metadata": {},
   "outputs": [
    {
     "data": {
      "text/html": [
       "<div>\n",
       "<style scoped>\n",
       "    .dataframe tbody tr th:only-of-type {\n",
       "        vertical-align: middle;\n",
       "    }\n",
       "\n",
       "    .dataframe tbody tr th {\n",
       "        vertical-align: top;\n",
       "    }\n",
       "\n",
       "    .dataframe thead th {\n",
       "        text-align: right;\n",
       "    }\n",
       "</style>\n",
       "<table border=\"1\" class=\"dataframe\">\n",
       "  <thead>\n",
       "    <tr style=\"text-align: right;\">\n",
       "      <th></th>\n",
       "      <th>full_name</th>\n",
       "      <th>phone_number</th>\n",
       "    </tr>\n",
       "  </thead>\n",
       "  <tbody>\n",
       "    <tr>\n",
       "      <th>0</th>\n",
       "      <td>Kimberly Antoinette Soewanto</td>\n",
       "      <td>816537266</td>\n",
       "    </tr>\n",
       "  </tbody>\n",
       "</table>\n",
       "</div>"
      ],
      "text/plain": [
       "                      full_name  phone_number\n",
       "0  Kimberly Antoinette Soewanto     816537266"
      ]
     },
     "execution_count": 3,
     "metadata": {},
     "output_type": "execute_result"
    }
   ],
   "source": [
    "bingo = pd.read_csv(\"bingo-tour.csv\").rename(columns={\"Phone number (for Whatsapp)\": \"phone_number\", \"Full Name\": \"full_name\"})\n",
    "bingo = bingo[[\"full_name\", \"phone_number\"]]\n",
    "bingo"
   ]
  },
  {
   "cell_type": "code",
   "execution_count": 5,
   "id": "0902cc98-3ae2-44ee-a8e8-f9fe697fe976",
   "metadata": {},
   "outputs": [
    {
     "ename": "AttributeError",
     "evalue": "'int' object has no attribute 'replace'",
     "output_type": "error",
     "traceback": [
      "\u001b[0;31m---------------------------------------------------------------------------\u001b[0m",
      "\u001b[0;31mAttributeError\u001b[0m                            Traceback (most recent call last)",
      "Cell \u001b[0;32mIn[5], line 10\u001b[0m\n\u001b[1;32m      7\u001b[0m update_pn \u001b[38;5;241m=\u001b[39m []\n\u001b[1;32m      9\u001b[0m \u001b[38;5;28;01mfor\u001b[39;00m index, row \u001b[38;5;129;01min\u001b[39;00m bingo\u001b[38;5;241m.\u001b[39miterrows():\n\u001b[0;32m---> 10\u001b[0m     p \u001b[38;5;241m=\u001b[39m \u001b[43mrow\u001b[49m\u001b[43m[\u001b[49m\u001b[38;5;124;43m'\u001b[39;49m\u001b[38;5;124;43mphone_number\u001b[39;49m\u001b[38;5;124;43m'\u001b[39;49m\u001b[43m]\u001b[49m\u001b[38;5;241;43m.\u001b[39;49m\u001b[43mreplace\u001b[49m(\u001b[38;5;124m'\u001b[39m\u001b[38;5;124m(\u001b[39m\u001b[38;5;124m'\u001b[39m,\u001b[38;5;124m'\u001b[39m\u001b[38;5;124m'\u001b[39m)\u001b[38;5;241m.\u001b[39mreplace(\u001b[38;5;124m'\u001b[39m\u001b[38;5;124m)\u001b[39m\u001b[38;5;124m'\u001b[39m,\u001b[38;5;124m'\u001b[39m\u001b[38;5;124m'\u001b[39m)\u001b[38;5;241m.\u001b[39mreplace(\u001b[38;5;124m'\u001b[39m\u001b[38;5;124m-\u001b[39m\u001b[38;5;124m'\u001b[39m,\u001b[38;5;124m'\u001b[39m\u001b[38;5;124m'\u001b[39m)\u001b[38;5;241m.\u001b[39mreplace(\u001b[38;5;124m'\u001b[39m\u001b[38;5;124m \u001b[39m\u001b[38;5;124m'\u001b[39m,\u001b[38;5;124m'\u001b[39m\u001b[38;5;124m'\u001b[39m)\n\u001b[1;32m     11\u001b[0m     \u001b[38;5;28;01mif\u001b[39;00m p[\u001b[38;5;241m0\u001b[39m] \u001b[38;5;241m==\u001b[39m \u001b[38;5;124m'\u001b[39m\u001b[38;5;124m0\u001b[39m\u001b[38;5;124m'\u001b[39m:\n\u001b[1;32m     12\u001b[0m         p \u001b[38;5;241m=\u001b[39m p[\u001b[38;5;241m1\u001b[39m:]\n",
      "\u001b[0;31mAttributeError\u001b[0m: 'int' object has no attribute 'replace'"
     ]
    }
   ],
   "source": [
    "bingo[\"full_name\"] = bingo[\"full_name\"].str.title()\n",
    "\n",
    "bingo[\"phone_number\"] = bingo[\"phone_number\"].replace('(','').replace(')','')\n",
    "\n",
    "bingo = bingo.reset_index()  # make sure indexes pair with number of rows\n",
    "\n",
    "update_pn = []\n",
    "\n",
    "for index, row in bingo.iterrows():\n",
    "    p = row['phone_number'].replace('(','').replace(')','').replace('-','').replace(' ','')\n",
    "    if p[0] == '0':\n",
    "        p = p[1:]\n",
    "    if p[0] == '8':\n",
    "        p = '+62' + p\n",
    "    if p[0] != '+':\n",
    "        p = '+1' + p\n",
    "    update_pn.append(p)\n",
    "\n",
    "bingo['phone_number'] = update_pn\n",
    "\n",
    "bingo = bingo[[\"full_name\", \"phone_number\"]].drop_duplicates(subset='full_name', keep=\"last\")"
   ]
  },
  {
   "cell_type": "code",
   "execution_count": 6,
   "id": "8c5e926e-ffb4-484e-8265-7ad967fba880",
   "metadata": {},
   "outputs": [
    {
     "data": {
      "text/plain": [
       "[{'level_0': 0,\n",
       "  'index': 0,\n",
       "  'full_name': 'Kimberly Antoinette Soewanto',\n",
       "  'phone_number': 816537266}]"
      ]
     },
     "execution_count": 6,
     "metadata": {},
     "output_type": "execute_result"
    }
   ],
   "source": [
    "bingo.to_dict('records')"
   ]
  },
  {
   "cell_type": "code",
   "execution_count": 11,
   "id": "2d4ca02c-a3ab-456c-b45a-7de994ac5135",
   "metadata": {},
   "outputs": [],
   "source": [
    "bingo_guests = [\n",
    "    {'full_name': 'Kimberly Antoinette Soewanto', 'phone_number': '+62816537266'},\n",
    "     {'full_name': 'Patricia Lee', 'phone_number': '+12063077452'},\n",
    "     {'full_name': 'Samantha Reksosamudra', 'phone_number': '+12065813043'},\n",
    "     {'full_name': 'Patricia Cindy Isabell', 'phone_number': '+6281226241526'},\n",
    "     {'full_name': 'Aurelia Audrey Kisanaga', 'phone_number': '+14152023010'},\n",
    "     {'full_name': 'Winston Paulus Junior Hermawan',\n",
    "      'phone_number': '+12068907289'},\n",
    "     {'full_name': 'Kelly Wijaya Teguh', 'phone_number': '+6285100309418'},\n",
    "     {'full_name': 'Sebastian Lim', 'phone_number': '+12064553306'},\n",
    "     {'full_name': 'Celine Chandra', 'phone_number': '+6281229192921'},\n",
    "     {'full_name': 'Kevin Wijaya', 'phone_number': '+16282245666381'},\n",
    "     {'full_name': 'Prisha Dhawan ', 'phone_number': '+15105162114'},\n",
    "     {'full_name': 'Jennifer Cheryl Sidharta', 'phone_number': '+6281386345151'},\n",
    "     {'full_name': 'Ryan Potzman', 'phone_number': '+13609352718'},\n",
    "     {'full_name': 'Diorra Ojong', 'phone_number': '+13605261892'},\n",
    "     {'full_name': 'Jonathan Herdianshah', 'phone_number': '+6285697109928'},\n",
    "     {'full_name': 'Jacqueline Heidy', 'phone_number': '+13605948217'},\n",
    "     {'full_name': 'Denzel Usman', 'phone_number': '+12069739171'},\n",
    "     {'full_name': 'Grace Veronica Tjandra', 'phone_number': '+6281510005548'},\n",
    "     {'full_name': 'Priyank Kapur', 'phone_number': '+14256158271'},\n",
    "     {'full_name': 'Kenzie Kosatria', 'phone_number': '+12068414204'},\n",
    "     {'full_name': 'Fredrick Felicio Susilo', 'phone_number': '+6289501057121'},\n",
    "     {'full_name': 'Jason Gabriel Chen', 'phone_number': '+6281586712313'},\n",
    "     {'full_name': 'Darren Manua', 'phone_number': '+12068300119'},\n",
    "     {'full_name': 'Branden Hendrikson Rao', 'phone_number': '+12065399658'},\n",
    "     {'full_name': 'Marvel Nathanael N', 'phone_number': '+12066943718'},\n",
    "     {'full_name': 'Jeremy De Angelo Tedja', 'phone_number': '+12064835625'},\n",
    "     {'full_name': 'Agnes Mahalia Bisma', 'phone_number': '+12063969833'},\n",
    "     {'full_name': 'Samuel Jovaren Purnama', 'phone_number': '+6281293589890'},\n",
    "     {'full_name': 'Jove Winston Pendapotan', 'phone_number': '+12068059576‬'},\n",
    "     {'full_name': 'Reuben Ailin Santoso', 'phone_number': '+12068897695'},\n",
    "     {'full_name': 'Rangga Manggala Pandya Bhagaskara',\n",
    "      'phone_number': '+6281398450686'},\n",
    "     {'full_name': 'Ceris', 'phone_number': '+12068237846'},\n",
    "     {'full_name': 'Jason Raymond Chen', 'phone_number': '+12068254040'},\n",
    "     {'full_name': 'Bennett Kwan', 'phone_number': '+12064827128'},\n",
    "     {'full_name': 'Kevin Silaban', 'phone_number': '+12069413321'},\n",
    "     {'full_name': 'Jean Christy', 'phone_number': '+12068982570'},\n",
    "     {'full_name': 'Marcelino Handoyo', 'phone_number': '+628118116663'},\n",
    "     {'full_name': 'Aurelle Alexandra Djaja', 'phone_number': '+12063511888'},\n",
    "     {'full_name': 'Muhammad Syakhrowi Ruswan', 'phone_number': '+14256489891'},\n",
    "     {'full_name': 'Michel Nadia', 'phone_number': '+14254429243'},\n",
    "     {'full_name': 'Enrico Joe Soputra', 'phone_number': '+12065910161'},\n",
    "     {'full_name': 'Ryo Aryanti', 'phone_number': '+6281299666708'},\n",
    "     {'full_name': 'Brandon Billy Bong', 'phone_number': '+14259961422'},\n",
    "     {'full_name': 'Kienan Ramli Setiaputra', 'phone_number': '+14254694530'},\n",
    "     {'full_name': 'Bennett Edbert Laos', 'phone_number': '+62811469500'},\n",
    "     {'full_name': 'Valerie Junus', 'phone_number': '+12067862996'},\n",
    "     {'full_name': 'Disney Joey Purwo', 'phone_number': '+6281231131313'},\n",
    "     {'full_name': 'Callista Walla', 'phone_number': '+6581666020'},\n",
    "     {'full_name': 'Gaby Wibisono', 'phone_number': '+6281555727010'},\n",
    "     {'full_name': 'Carolyn Christopher Chen', 'phone_number': '+12067932226'}\n",
    "]\n"
   ]
  },
  {
   "cell_type": "code",
   "execution_count": 8,
   "id": "75db7ef8-a9ef-4452-a321-01a09cbfd57f",
   "metadata": {},
   "outputs": [],
   "source": [
    "guests = [\n",
    "    {\"name\": \"Darren Gunadharma\", \"number\": \"+12063758257\"},\n",
    "    {\"name\": \"Sharon Sutandinata\", \"number\": \"+62817700012\"},\n",
    "    {\"name\": \"Arvin Oentoro\", \"number\": \"+12063758257\"},\n",
    "    {\"name\": \"Gillian Soekawan\", \"number\": \"+62817700012\"},\n",
    "    {\"name\": \"Enrico Pratama\", \"number\": \"+12063758257\"}\n",
    "]"
   ]
  },
  {
   "cell_type": "code",
   "execution_count": 10,
   "id": "7acafc11-bcec-4df3-8afe-8cb94a35c2b0",
   "metadata": {},
   "outputs": [
    {
     "name": "stdout",
     "output_type": "stream",
     "text": [
      "sent message to Darren Gunadharma\n",
      "sent message to Sharon Sutandinata\n",
      "sent message to Arvin Oentoro\n",
      "sent message to Gillian Soekawan\n",
      "sent message to Enrico Pratama\n"
     ]
    }
   ],
   "source": [
    "for guest in guests:\n",
    "    guest_name = guest[\"name\"]\n",
    "    guest_number = guest[\"number\"]\n",
    "    \n",
    "    message = f\"\"\"Hi {guest_name} :-)\n",
    "    Thank you for signing up for ISAUW's Seattle Bingo Tour. We're excited to meet you and here are some reminders for today:\n",
    "\n",
    "    1. Meet us at Red Square (in front of Suzzallo) at 2pm SHARP.\n",
    "\n",
    "    2. The weather predicts slight drizzle/rain today so wear your rain gear! Bring umbrellas, raincoats or hoodies for your comfort.\n",
    "\n",
    "    3. Bring your ORCA or UW ID card as we will be taking public transport throughout the day.\n",
    "\n",
    "    Attached below are your assigned groups! If you have any questions or concerns or if you are unable to come to the event, please feel free to DM us on Instagram @isauwhuskies . \n",
    "\n",
    "    Thank you so much for supporting us through this event and we hope to see you there!\n",
    "\n",
    "    https://docs.google.com/document/d/12kdq66COf655bFir-YJniJL9PGetW-G84NIDQgc0eRA/edit\n",
    "    \"\"\"\n",
    "    pywhatkit.sendwhatmsg_instantly(guest_number, message, 10, True)\n",
    "    print(f\"sent message to {guest_name}\")\n"
   ]
  },
  {
   "cell_type": "code",
   "execution_count": null,
   "id": "55ec5453",
   "metadata": {},
   "outputs": [],
   "source": []
  }
 ],
 "metadata": {
  "kernelspec": {
   "display_name": "Python 3 (ipykernel)",
   "language": "python",
   "name": "python3"
  },
  "language_info": {
   "codemirror_mode": {
    "name": "ipython",
    "version": 3
   },
   "file_extension": ".py",
   "mimetype": "text/x-python",
   "name": "python",
   "nbconvert_exporter": "python",
   "pygments_lexer": "ipython3",
   "version": "3.10.5"
  }
 },
 "nbformat": 4,
 "nbformat_minor": 5
}
